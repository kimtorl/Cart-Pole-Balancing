{
  "nbformat": 4,
  "nbformat_minor": 0,
  "metadata": {
    "colab": {
      "provenance": [],
      "toc_visible": true
    },
    "kernelspec": {
      "name": "python3",
      "display_name": "Python 3"
    },
    "language_info": {
      "name": "python"
    }
  },
  "cells": [
    {
      "cell_type": "markdown",
      "source": [
        "# Tutorial and Sample Code for Balancing a Pole on a Cart"
      ],
      "metadata": {
        "id": "ZauhjPSfX7pI"
      }
    },
    {
      "cell_type": "markdown",
      "source": [
        "## Installing dependencies:"
      ],
      "metadata": {
        "id": "UBiYOoesYMvr"
      }
    },
    {
      "cell_type": "code",
      "execution_count": 1,
      "metadata": {
        "colab": {
          "base_uri": "https://localhost:8080/"
        },
        "id": "PbgnVwZmX5uW",
        "outputId": "88fcd389-e11e-4b7a-c4f1-758311c3ebf5"
      },
      "outputs": [
        {
          "output_type": "stream",
          "name": "stdout",
          "text": [
            "Looking in indexes: https://pypi.org/simple, https://us-python.pkg.dev/colab-wheels/public/simple/\n",
            "Requirement already satisfied: gym[classic_control] in /usr/local/lib/python3.9/dist-packages (0.25.2)\n",
            "Requirement already satisfied: numpy>=1.18.0 in /usr/local/lib/python3.9/dist-packages (from gym[classic_control]) (1.22.4)\n",
            "Requirement already satisfied: gym-notices>=0.0.4 in /usr/local/lib/python3.9/dist-packages (from gym[classic_control]) (0.0.8)\n",
            "Requirement already satisfied: cloudpickle>=1.2.0 in /usr/local/lib/python3.9/dist-packages (from gym[classic_control]) (2.2.1)\n",
            "Requirement already satisfied: importlib-metadata>=4.8.0 in /usr/local/lib/python3.9/dist-packages (from gym[classic_control]) (6.0.0)\n",
            "Collecting pygame==2.1.0\n",
            "  Downloading pygame-2.1.0-cp39-cp39-manylinux_2_17_x86_64.manylinux2014_x86_64.whl (18.3 MB)\n",
            "\u001b[2K     \u001b[90m━━━━━━━━━━━━━━━━━━━━━━━━━━━━━━━━━━━━━━━━\u001b[0m \u001b[32m18.3/18.3 MB\u001b[0m \u001b[31m66.4 MB/s\u001b[0m eta \u001b[36m0:00:00\u001b[0m\n",
            "\u001b[?25hRequirement already satisfied: zipp>=0.5 in /usr/local/lib/python3.9/dist-packages (from importlib-metadata>=4.8.0->gym[classic_control]) (3.15.0)\n",
            "Installing collected packages: pygame\n",
            "Successfully installed pygame-2.1.0\n",
            "Looking in indexes: https://pypi.org/simple, https://us-python.pkg.dev/colab-wheels/public/simple/\n",
            "Requirement already satisfied: setuptools in /usr/local/lib/python3.9/dist-packages (63.4.3)\n",
            "Collecting setuptools\n",
            "  Downloading setuptools-67.6.0-py3-none-any.whl (1.1 MB)\n",
            "\u001b[2K     \u001b[90m━━━━━━━━━━━━━━━━━━━━━━━━━━━━━━━━━━━━━━━━\u001b[0m \u001b[32m1.1/1.1 MB\u001b[0m \u001b[31m41.3 MB/s\u001b[0m eta \u001b[36m0:00:00\u001b[0m\n",
            "\u001b[?25hInstalling collected packages: setuptools\n",
            "  Attempting uninstall: setuptools\n",
            "    Found existing installation: setuptools 63.4.3\n",
            "    Uninstalling setuptools-63.4.3:\n",
            "      Successfully uninstalled setuptools-63.4.3\n",
            "\u001b[31mERROR: pip's dependency resolver does not currently take into account all the packages that are installed. This behaviour is the source of the following dependency conflicts.\n",
            "ipython 7.9.0 requires jedi>=0.10, which is not installed.\n",
            "cvxpy 1.3.0 requires setuptools<=64.0.2, but you have setuptools 67.6.0 which is incompatible.\u001b[0m\u001b[31m\n",
            "\u001b[0mSuccessfully installed setuptools-67.6.0\n"
          ]
        }
      ],
      "source": [
        "!apt-get install -y xvfb python-opengl > /dev/null 2>&1\n",
        "!pip install gym pyvirtualdisplay > /dev/null 2>&1\n",
        "!pip install gym pyvirtualdisplay > /dev/null 2>&1\n",
        "!apt-get install -y xvfb python-opengl ffmpeg > /dev/null 2>&1\n",
        "!pip install gym[classic_control]\n",
        "!apt-get update > /dev/null 2>&1\n",
        "!apt-get install cmake > /dev/null 2>&1\n",
        "!pip install --upgrade setuptools 2>&1\n",
        "!pip install ez_setup > /dev/null 2>&1"
      ]
    },
    {
      "cell_type": "markdown",
      "source": [
        "## Importing dependencies and define helper functions"
      ],
      "metadata": {
        "id": "RwKbYeTgbaTA"
      }
    },
    {
      "cell_type": "code",
      "source": [
        "import gym\n",
        "from gym import logger as gymlogger\n",
        "from gym.wrappers import RecordVideo\n",
        "gymlogger.set_level(40) #error only\n",
        "import tensorflow as tf\n",
        "import numpy as np\n",
        "import random\n",
        "import matplotlib\n",
        "import matplotlib.pyplot as plt\n",
        "%matplotlib inline\n",
        "import math\n",
        "import glob\n",
        "import io\n",
        "import base64\n",
        "from IPython.display import HTML\n",
        "from IPython import display as ipythondisplay\n",
        "\n",
        "def show_video():\n",
        "  mp4list = glob.glob('video/*.mp4')\n",
        "  if len(mp4list) > 0:\n",
        "    mp4 = mp4list[0]\n",
        "    video = io.open(mp4, 'r+b').read()\n",
        "    encoded = base64.b64encode(video)\n",
        "    ipythondisplay.display(HTML(data='''<video alt=\"test\" autoplay \n",
        "                loop controls style=\"height: 400px;\">\n",
        "                <source src=\"data:video/mp4;base64,{0}\" type=\"video/mp4\" />\n",
        "             </video>'''.format(encoded.decode('ascii'))))\n",
        "  else: \n",
        "    print(\"Could not find video\")"
      ],
      "metadata": {
        "id": "j6KpgCLGYWmj"
      },
      "execution_count": 2,
      "outputs": []
    },
    {
      "cell_type": "markdown",
      "source": [
        "## Tutorial: Loading CartPole environment"
      ],
      "metadata": {
        "id": "ehbqP9CXbmo7"
      }
    },
    {
      "cell_type": "code",
      "source": [
        "env = gym.make(\"CartPole-v1\")"
      ],
      "metadata": {
        "id": "8_EpSgNRI0Q8"
      },
      "execution_count": 3,
      "outputs": []
    },
    {
      "cell_type": "markdown",
      "source": [
        "We can check the action and observation space of this environment. Discrete(2) means that there are two valid discrete actions: 0 & 1."
      ],
      "metadata": {
        "id": "Q6wGsROkKXJZ"
      }
    },
    {
      "cell_type": "code",
      "source": [
        "print(env.action_space)"
      ],
      "metadata": {
        "colab": {
          "base_uri": "https://localhost:8080/"
        },
        "id": "THth1UZkI7mO",
        "outputId": "107b0c92-ea82-4a12-d3f8-6eb70ebe9ad0"
      },
      "execution_count": 4,
      "outputs": [
        {
          "output_type": "stream",
          "name": "stdout",
          "text": [
            "Discrete(2)\n"
          ]
        }
      ]
    },
    {
      "cell_type": "markdown",
      "source": [
        "The observation space is given below. The first two arrays define the min and max values of the 4 observed values, corresponding to cart position, velocity and pole angle, angular velocity."
      ],
      "metadata": {
        "id": "gKnKyRRaKSKp"
      }
    },
    {
      "cell_type": "code",
      "source": [
        "print(env.observation_space)"
      ],
      "metadata": {
        "colab": {
          "base_uri": "https://localhost:8080/"
        },
        "id": "JtgmGLOWKIRG",
        "outputId": "f5b90896-e200-42de-9b52-15eb1c9c24c0"
      },
      "execution_count": 5,
      "outputs": [
        {
          "output_type": "stream",
          "name": "stdout",
          "text": [
            "Box([-4.8000002e+00 -3.4028235e+38 -4.1887903e-01 -3.4028235e+38], [4.8000002e+00 3.4028235e+38 4.1887903e-01 3.4028235e+38], (4,), float32)\n"
          ]
        }
      ]
    },
    {
      "cell_type": "code",
      "source": [
        "env.action_space.n"
      ],
      "metadata": {
        "colab": {
          "base_uri": "https://localhost:8080/"
        },
        "id": "wTAffxnXtb4p",
        "outputId": "969aabce-8e7e-4b3e-e8be-abd667ba8775"
      },
      "execution_count": 6,
      "outputs": [
        {
          "output_type": "execute_result",
          "data": {
            "text/plain": [
              "2"
            ]
          },
          "metadata": {},
          "execution_count": 6
        }
      ]
    },
    {
      "cell_type": "code",
      "source": [
        "print(\"max state values: \", env.observation_space.high)\n",
        "print(\"min state values: \", env.observation_space.low)\n",
        "#cart position, velocity and pole angle, angular velocity."
      ],
      "metadata": {
        "colab": {
          "base_uri": "https://localhost:8080/"
        },
        "id": "CiB_HWXFepU-",
        "outputId": "afa16cdf-b5b1-44e5-c944-8416402e9236"
      },
      "execution_count": 7,
      "outputs": [
        {
          "output_type": "stream",
          "name": "stdout",
          "text": [
            "max state values:  [4.8000002e+00 3.4028235e+38 4.1887903e-01 3.4028235e+38]\n",
            "min state values:  [-4.8000002e+00 -3.4028235e+38 -4.1887903e-01 -3.4028235e+38]\n"
          ]
        }
      ]
    },
    {
      "cell_type": "markdown",
      "source": [
        "We call each round of the pole-balancing game an \"episode\". At the start of each episode, make sure the environment is reset, which chooses a random initial state, e.g., pole slightly tilted to the right. This initialization can be achieved by the code below, which returns the observation of the initial state."
      ],
      "metadata": {
        "id": "HFOdaU2Gdyg0"
      }
    },
    {
      "cell_type": "code",
      "source": [
        "observation = env.reset()\n",
        "print(\"Initial observations:\", observation)"
      ],
      "metadata": {
        "colab": {
          "base_uri": "https://localhost:8080/"
        },
        "id": "VMr6qAqxdOsm",
        "outputId": "7b6ab6c7-6d62-49dd-cf71-f7cf058776b9"
      },
      "execution_count": 8,
      "outputs": [
        {
          "output_type": "stream",
          "name": "stdout",
          "text": [
            "Initial observations: [ 0.01273971 -0.00449024  0.04235275 -0.01184172]\n"
          ]
        }
      ]
    },
    {
      "cell_type": "markdown",
      "source": [
        "For the CartPole environment, there are two possible actions: 0 for pushing to the left and 1 for pushing to the right. For example, we can push the cart to the left using code below, which returns the new observation, the current reward, an indicator of whether the game ends, and some additional information (not used in this project). For CartPole, the game ends when the pole is significantly tilted or you manage to balance the pole for 500 steps. You get exactly 1 reward for each step before the game ends (i.e., max cumulative reward is 500)."
      ],
      "metadata": {
        "id": "qnG2QdfbeZrI"
      }
    },
    {
      "cell_type": "code",
      "source": [
        "observation, reward, done, info = env.step(0)\n",
        "print(\"New observations after choosing action 0:\", observation)\n",
        "print(\"Reward for this step:\", reward)\n",
        "print(\"Is this round done?\", done)"
      ],
      "metadata": {
        "colab": {
          "base_uri": "https://localhost:8080/"
        },
        "id": "MmfMDvyYdWGk",
        "outputId": "9dd1271a-4ca6-43f0-c8e1-44f81652cc53"
      },
      "execution_count": 9,
      "outputs": [
        {
          "output_type": "stream",
          "name": "stdout",
          "text": [
            "New observations after choosing action 0: [ 0.01264991 -0.2001932   0.04211592  0.29389745]\n",
            "Reward for this step: 1.0\n",
            "Is this round done? False\n"
          ]
        }
      ]
    },
    {
      "cell_type": "markdown",
      "source": [
        "Now we can play a full round of the game using a naive strategy (always choosing action 0), and show the cumulative reward in the round. Note that reward returned by env.step(*) corresponds to the reward for current step. So we have to accumulate the reward for each step. Clearly, the naive strategy performs poorly by surviving only a dozen of steps."
      ],
      "metadata": {
        "id": "tj0zCh59fhBb"
      }
    },
    {
      "cell_type": "code",
      "source": [
        "observation = env.reset()\n",
        "cumulative_reward = 0\n",
        "done = False\n",
        "while not done:\n",
        "    observation, reward, done, info = env.step(0)\n",
        "    #print(reward)\n",
        "    cumulative_reward += reward\n",
        "print(\"Cumulative reward for this round:\", cumulative_reward)\n",
        "#performs around 10 steps before failing."
      ],
      "metadata": {
        "colab": {
          "base_uri": "https://localhost:8080/"
        },
        "id": "AVucQVRwf6Jm",
        "outputId": "ea00d270-36a1-47d5-cdaa-8abfc82227db"
      },
      "execution_count": 10,
      "outputs": [
        {
          "output_type": "stream",
          "name": "stdout",
          "text": [
            "Cumulative reward for this round: 9.0\n"
          ]
        }
      ]
    },
    {
      "cell_type": "markdown",
      "source": [
        "## Task 1: Development of an RL agent"
      ],
      "metadata": {
        "id": "2oIzK9SzhlWN"
      }
    },
    {
      "cell_type": "markdown",
      "source": [
        "## **Q Learning Agent**"
      ],
      "metadata": {
        "id": "U-6pFNU0jNyF"
      }
    },
    {
      "cell_type": "markdown",
      "source": [
        "First, we initiliased the Q table with a fixed number of bins (where number of bins = 20) for each observation space dimension. This was done to discretise the continuous state space into discrete states. \n",
        "\n",
        "The Q table is initialised with random values within a fixed range such that the algorithm can explore different actions in each state."
      ],
      "metadata": {
        "id": "zUXX8DstTe0C"
      }
    },
    {
      "cell_type": "code",
      "source": [
        "def create_bins_and_q_table():\n",
        "\n",
        "\tnumBins = 20\n",
        "\tobsSpaceSize = len(env.observation_space.high)\n",
        "\n",
        "\t# Get the size of each bucket\n",
        "\tbins = [\n",
        "\t\tnp.linspace(-4.8, 4.8, numBins),\n",
        "\t\tnp.linspace(-4, 4, numBins),\n",
        "\t\tnp.linspace(-.418, .418, numBins),\n",
        "\t\tnp.linspace(-4, 4, numBins)\n",
        "\t]\n",
        "\n",
        "\tqTable = np.random.uniform(low=-2, high=0, size=([numBins] * obsSpaceSize + [env.action_space.n]))\n",
        "\n",
        "\treturn bins, obsSpaceSize, qTable"
      ],
      "metadata": {
        "id": "RdqClQtSlvv7"
      },
      "execution_count": 11,
      "outputs": []
    },
    {
      "cell_type": "markdown",
      "source": [
        "Next, we created a function to turn continuous state space into discrete states.\n",
        "\n",
        "The function would iterate over each dimension of state and np.digitalize function will find the inddex in which thee state value falls. -1 will turn bin into the corresponding index in the Q table."
      ],
      "metadata": {
        "id": "cizEuLmXSoBv"
      }
    },
    {
      "cell_type": "code",
      "source": [
        "def get_discrete_state(state, bins, obsSpaceSize):\n",
        "\tstateIndex = []\n",
        "\tfor i in range(obsSpaceSize):\n",
        "\t\tstateIndex.append(np.digitize(state[i], bins[i]) - 1) # -1 will turn bin into index\n",
        "\treturn tuple(stateIndex)\n"
      ],
      "metadata": {
        "id": "6CH70_xDly75"
      },
      "execution_count": 12,
      "outputs": []
    },
    {
      "cell_type": "markdown",
      "source": [
        "We used Q learning to train our agent. \n",
        "The Q learning runs 20, 000 episodes, with the learning rate of 0.1 and discount factor of 0.95. \n",
        "High number of epidoses of 20, 000 is choosen for better performance of the Q learning agent."
      ],
      "metadata": {
        "id": "Q7cPbg6jS4oL"
      }
    },
    {
      "cell_type": "code",
      "source": [
        "bins, obsSpaceSize, q_table = create_bins_and_q_table()\n",
        "alpha = 0.1 #learning rate\n",
        "gamma = 0.95 #discount between 0 and 1\n",
        "num_episodes = 20000\n",
        "ep_results = []\n",
        "ep_reward = 0\n",
        "metrics = {'ep': [], 'avg': [], 'min': [], 'max': []}  # metrics recorded for graph"
      ],
      "metadata": {
        "id": "VRFN_2yRe-wm"
      },
      "execution_count": 20,
      "outputs": []
    },
    {
      "cell_type": "markdown",
      "source": [
        "We define the probability of selecting a random action (exploration) instead of highest Q-value (exploitation) using epsilon decaying.\n",
        "\n",
        "We start with exploration setting (epsilon) = 1 and this value is going to be decayed as more episodes get to run.\n",
        "\n",
        "\n",
        "\n"
      ],
      "metadata": {
        "id": "OGF78I3ed67u"
      }
    },
    {
      "cell_type": "code",
      "source": [
        "# Exploration settings\n",
        "epsilon = 1  # not a constant, going to be decayed\n",
        "START_EPSILON_DECAYING = 1\n",
        "END_EPSILON_DECAYING = num_episodes // 2\n",
        "epsilon_decay_value = epsilon / (END_EPSILON_DECAYING - START_EPSILON_DECAYING)"
      ],
      "metadata": {
        "id": "el4v3YdDfH_p"
      },
      "execution_count": 21,
      "outputs": []
    },
    {
      "cell_type": "markdown",
      "source": [
        "At the start of each episodes, 'done' is set to False to indicate the episode is not over, and the reward for the episode is initialisd to 0. 's', which indicate the current state ,is discritized.\n",
        "\n"
      ],
      "metadata": {
        "id": "-YrQmIzqgX7t"
      }
    },
    {
      "cell_type": "markdown",
      "source": [
        "We printed every 100 episodes, with its avaerage reward, minimum reward and maximum reward.\n",
        "At the end of the iteration, the number of episodes were printed to ensure all 20, 000 episodes has been run and the overall average reward of 20, 000 episodes were calculated.\n",
        "\n",
        "For every epidose, if the random number is greater than epsilon value, the agent select action with highest Q value from the Q table (exploitation); else the agent will select a random action and explore the environment.\n",
        "\n",
        "The agent will then call env.step(action) to get new state, reward and done, which the new state will then get discretised. The reward is then added to the total rewards for that episode. \n",
        "\n",
        "For the cases which the episode ends and the total episode reward is less than 200, the reward is set to -375. This serves as penalty for not completing task such that agent will tend to complete the task as quickly as possible by minimising the steps it take to complete the episode and receive a higher reward. (discourage agent from exploring the environment too much without completing the task, which this action leads to reward less than 200)"
      ],
      "metadata": {
        "id": "rV35569zX3p4"
      }
    },
    {
      "cell_type": "markdown",
      "source": [
        "The maximum Q value will be calculated and updated if there is any change. The current Q value is retrived from the Q table, and the new Q value is calculated with the Q learning formula:\n",
        "final_QValue = (1-alpha)current_QValue + alpha(reward + gamma*maxFuture_QValue) \n",
        "\n",
        "![image.png](data:image/png;base64,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)"
      ],
      "metadata": {
        "id": "DJ3sBNuoii6U"
      }
    },
    {
      "cell_type": "markdown",
      "source": [
        "The current state is updated to the new state using s = newDiscreteState, until the episode is complete\n",
        "\n",
        "After each episode, the total episode reward is appended to the ep_results list, and the epsilon value is updated using an epsilon decay schedule. If the current episode is between START_EPSILON_DECAYING and END_EPSILON_DECAYING, the epsilon value is decreased using an exponential decay function. "
      ],
      "metadata": {
        "id": "KFIA5JekimVp"
      }
    },
    {
      "cell_type": "markdown",
      "source": [
        "We printed the the average, minimum, and maximum total episode reward for the every 100 episodes.\n",
        "\n",
        "Lastly, we also printed the length of episodes (number of episodes) to ensure that all 20000 episodes were run.\n",
        "The overall average of 20000 episodes were also printed"
      ],
      "metadata": {
        "id": "_wBtnAaRji1N"
      }
    },
    {
      "cell_type": "code",
      "source": [
        "for i in range(num_episodes):\n",
        "\n",
        "  done = False\n",
        "  s = get_discrete_state(env.reset(), bins, obsSpaceSize)\n",
        "  ep_reward = 0\n",
        "\n",
        "  while not done:\n",
        "    if np.random.random() > epsilon:\n",
        "      action = np.argmax(q_table[s])\n",
        "    else:\n",
        "      action = np.random.randint(0, env.action_space.n)\n",
        "\n",
        "    new_state, reward, done, _ = env.step(action)\n",
        "    newDiscreteState = get_discrete_state(new_state, bins, obsSpaceSize)\n",
        "    #print(newDiscreteState)\n",
        "    ep_reward += reward\n",
        "    maxFuture_QValue = np.max(q_table[newDiscreteState])\n",
        "    current_QValue = q_table[s + (action, )]\n",
        "    \n",
        "    if done and ep_reward < 200:\n",
        "      reward = -375      \n",
        "\n",
        "    final_QValue = (1-alpha)*current_QValue + alpha*(reward + gamma*maxFuture_QValue)\n",
        "      #updating the q value (action) based on the reward and new state\n",
        "    q_table[s + (action, )] = final_QValue\n",
        "    s = newDiscreteState\n",
        "  \n",
        "  ep_results.append(ep_reward)\n",
        "\n",
        "  if END_EPSILON_DECAYING >= i >= START_EPSILON_DECAYING:\n",
        "    epsilon -= epsilon_decay_value\n",
        "\n",
        "  if i % 100 == 0:\n",
        "    latestRuns = ep_results[-100:]\n",
        "    averageCnt = sum(latestRuns) / len(latestRuns)\n",
        "    metrics['ep'].append(i)\n",
        "    metrics['avg'].append(averageCnt)\n",
        "    metrics['min'].append(min(latestRuns))\n",
        "    metrics['max'].append(max(latestRuns))\n",
        "    print(\"Run:\", i, \"Average:\", averageCnt, \"Min:\", min(latestRuns), \"Max:\", max(latestRuns))\n",
        "    \n",
        "print(len(ep_results))\n",
        "sum(ep_results)/len(ep_results)"
      ],
      "metadata": {
        "colab": {
          "base_uri": "https://localhost:8080/"
        },
        "id": "hxxkAI0eDtJS",
        "outputId": "63aa178f-05bc-4bfd-b4ff-97e60744edff"
      },
      "execution_count": 22,
      "outputs": [
        {
          "output_type": "stream",
          "name": "stdout",
          "text": [
            "Run: 0 Average: 16.0 Min: 16.0 Max: 16.0\n",
            "Run: 100 Average: 23.11 Min: 9.0 Max: 79.0\n",
            "Run: 200 Average: 21.37 Min: 9.0 Max: 69.0\n",
            "Run: 300 Average: 21.52 Min: 8.0 Max: 54.0\n",
            "Run: 400 Average: 22.52 Min: 9.0 Max: 66.0\n",
            "Run: 500 Average: 21.99 Min: 8.0 Max: 73.0\n",
            "Run: 600 Average: 22.21 Min: 10.0 Max: 54.0\n",
            "Run: 700 Average: 23.55 Min: 9.0 Max: 61.0\n",
            "Run: 800 Average: 27.39 Min: 10.0 Max: 83.0\n",
            "Run: 900 Average: 27.38 Min: 8.0 Max: 81.0\n",
            "Run: 1000 Average: 27.44 Min: 10.0 Max: 70.0\n",
            "Run: 1100 Average: 25.95 Min: 9.0 Max: 94.0\n",
            "Run: 1200 Average: 25.24 Min: 9.0 Max: 70.0\n",
            "Run: 1300 Average: 29.95 Min: 10.0 Max: 84.0\n",
            "Run: 1400 Average: 29.37 Min: 11.0 Max: 107.0\n",
            "Run: 1500 Average: 34.86 Min: 11.0 Max: 105.0\n",
            "Run: 1600 Average: 26.01 Min: 8.0 Max: 77.0\n",
            "Run: 1700 Average: 26.38 Min: 10.0 Max: 103.0\n",
            "Run: 1800 Average: 34.73 Min: 10.0 Max: 101.0\n",
            "Run: 1900 Average: 30.34 Min: 9.0 Max: 104.0\n",
            "Run: 2000 Average: 35.65 Min: 9.0 Max: 101.0\n",
            "Run: 2100 Average: 35.59 Min: 10.0 Max: 147.0\n",
            "Run: 2200 Average: 43.98 Min: 9.0 Max: 172.0\n",
            "Run: 2300 Average: 37.95 Min: 10.0 Max: 117.0\n",
            "Run: 2400 Average: 37.06 Min: 11.0 Max: 107.0\n",
            "Run: 2500 Average: 38.42 Min: 10.0 Max: 148.0\n",
            "Run: 2600 Average: 39.65 Min: 9.0 Max: 100.0\n",
            "Run: 2700 Average: 43.27 Min: 9.0 Max: 171.0\n",
            "Run: 2800 Average: 45.03 Min: 9.0 Max: 153.0\n",
            "Run: 2900 Average: 47.06 Min: 13.0 Max: 123.0\n",
            "Run: 3000 Average: 42.0 Min: 9.0 Max: 129.0\n",
            "Run: 3100 Average: 44.94 Min: 11.0 Max: 116.0\n",
            "Run: 3200 Average: 44.91 Min: 11.0 Max: 155.0\n",
            "Run: 3300 Average: 47.39 Min: 10.0 Max: 133.0\n",
            "Run: 3400 Average: 55.11 Min: 10.0 Max: 171.0\n",
            "Run: 3500 Average: 62.39 Min: 9.0 Max: 147.0\n",
            "Run: 3600 Average: 55.49 Min: 9.0 Max: 151.0\n",
            "Run: 3700 Average: 53.86 Min: 10.0 Max: 149.0\n",
            "Run: 3800 Average: 59.24 Min: 10.0 Max: 225.0\n",
            "Run: 3900 Average: 54.88 Min: 12.0 Max: 177.0\n",
            "Run: 4000 Average: 66.57 Min: 16.0 Max: 191.0\n",
            "Run: 4100 Average: 65.05 Min: 11.0 Max: 171.0\n",
            "Run: 4200 Average: 72.21 Min: 10.0 Max: 187.0\n",
            "Run: 4300 Average: 70.56 Min: 12.0 Max: 211.0\n",
            "Run: 4400 Average: 73.23 Min: 11.0 Max: 241.0\n",
            "Run: 4500 Average: 72.98 Min: 14.0 Max: 194.0\n",
            "Run: 4600 Average: 88.14 Min: 9.0 Max: 230.0\n",
            "Run: 4700 Average: 70.46 Min: 9.0 Max: 224.0\n",
            "Run: 4800 Average: 87.12 Min: 16.0 Max: 239.0\n",
            "Run: 4900 Average: 88.33 Min: 14.0 Max: 238.0\n",
            "Run: 5000 Average: 91.12 Min: 11.0 Max: 257.0\n",
            "Run: 5100 Average: 94.31 Min: 12.0 Max: 309.0\n",
            "Run: 5200 Average: 96.46 Min: 15.0 Max: 281.0\n",
            "Run: 5300 Average: 104.43 Min: 15.0 Max: 252.0\n",
            "Run: 5400 Average: 91.74 Min: 11.0 Max: 255.0\n",
            "Run: 5500 Average: 125.22 Min: 20.0 Max: 423.0\n",
            "Run: 5600 Average: 113.78 Min: 18.0 Max: 305.0\n",
            "Run: 5700 Average: 123.44 Min: 16.0 Max: 364.0\n",
            "Run: 5800 Average: 122.77 Min: 15.0 Max: 383.0\n",
            "Run: 5900 Average: 128.91 Min: 11.0 Max: 340.0\n",
            "Run: 6000 Average: 129.66 Min: 11.0 Max: 292.0\n",
            "Run: 6100 Average: 121.68 Min: 16.0 Max: 295.0\n",
            "Run: 6200 Average: 143.44 Min: 14.0 Max: 386.0\n",
            "Run: 6300 Average: 147.05 Min: 17.0 Max: 336.0\n",
            "Run: 6400 Average: 156.25 Min: 17.0 Max: 440.0\n",
            "Run: 6500 Average: 176.05 Min: 37.0 Max: 472.0\n",
            "Run: 6600 Average: 152.37 Min: 12.0 Max: 500.0\n",
            "Run: 6700 Average: 183.83 Min: 10.0 Max: 500.0\n",
            "Run: 6800 Average: 188.77 Min: 22.0 Max: 500.0\n",
            "Run: 6900 Average: 181.19 Min: 46.0 Max: 401.0\n",
            "Run: 7000 Average: 171.64 Min: 19.0 Max: 500.0\n",
            "Run: 7100 Average: 181.79 Min: 14.0 Max: 500.0\n",
            "Run: 7200 Average: 184.85 Min: 26.0 Max: 383.0\n",
            "Run: 7300 Average: 182.24 Min: 30.0 Max: 389.0\n",
            "Run: 7400 Average: 218.39 Min: 49.0 Max: 500.0\n",
            "Run: 7500 Average: 215.84 Min: 51.0 Max: 500.0\n",
            "Run: 7600 Average: 232.78 Min: 29.0 Max: 500.0\n",
            "Run: 7700 Average: 235.92 Min: 81.0 Max: 500.0\n",
            "Run: 7800 Average: 218.92 Min: 30.0 Max: 500.0\n",
            "Run: 7900 Average: 194.55 Min: 24.0 Max: 449.0\n",
            "Run: 8000 Average: 224.75 Min: 13.0 Max: 500.0\n",
            "Run: 8100 Average: 221.73 Min: 35.0 Max: 449.0\n",
            "Run: 8200 Average: 220.03 Min: 14.0 Max: 454.0\n",
            "Run: 8300 Average: 264.63 Min: 61.0 Max: 500.0\n",
            "Run: 8400 Average: 229.11 Min: 97.0 Max: 500.0\n",
            "Run: 8500 Average: 253.38 Min: 97.0 Max: 500.0\n",
            "Run: 8600 Average: 244.41 Min: 91.0 Max: 500.0\n",
            "Run: 8700 Average: 217.3 Min: 121.0 Max: 500.0\n",
            "Run: 8800 Average: 231.93 Min: 131.0 Max: 405.0\n",
            "Run: 8900 Average: 210.33 Min: 88.0 Max: 470.0\n",
            "Run: 9000 Average: 221.98 Min: 117.0 Max: 500.0\n",
            "Run: 9100 Average: 239.19 Min: 117.0 Max: 500.0\n",
            "Run: 9200 Average: 259.85 Min: 130.0 Max: 500.0\n",
            "Run: 9300 Average: 222.61 Min: 94.0 Max: 500.0\n",
            "Run: 9400 Average: 239.98 Min: 110.0 Max: 500.0\n",
            "Run: 9500 Average: 267.96 Min: 99.0 Max: 500.0\n",
            "Run: 9600 Average: 219.53 Min: 126.0 Max: 485.0\n",
            "Run: 9700 Average: 247.34 Min: 134.0 Max: 500.0\n",
            "Run: 9800 Average: 271.21 Min: 133.0 Max: 500.0\n",
            "Run: 9900 Average: 238.57 Min: 125.0 Max: 500.0\n",
            "Run: 10000 Average: 235.45 Min: 111.0 Max: 500.0\n",
            "Run: 10100 Average: 246.29 Min: 143.0 Max: 500.0\n",
            "Run: 10200 Average: 198.94 Min: 142.0 Max: 500.0\n",
            "Run: 10300 Average: 195.5 Min: 158.0 Max: 481.0\n",
            "Run: 10400 Average: 192.63 Min: 159.0 Max: 410.0\n",
            "Run: 10500 Average: 187.08 Min: 153.0 Max: 229.0\n",
            "Run: 10600 Average: 185.09 Min: 149.0 Max: 229.0\n",
            "Run: 10700 Average: 192.32 Min: 143.0 Max: 472.0\n",
            "Run: 10800 Average: 191.1 Min: 143.0 Max: 462.0\n",
            "Run: 10900 Average: 201.96 Min: 157.0 Max: 477.0\n",
            "Run: 11000 Average: 187.05 Min: 157.0 Max: 424.0\n",
            "Run: 11100 Average: 196.88 Min: 147.0 Max: 449.0\n",
            "Run: 11200 Average: 187.96 Min: 147.0 Max: 400.0\n",
            "Run: 11300 Average: 198.19 Min: 162.0 Max: 450.0\n",
            "Run: 11400 Average: 189.9 Min: 160.0 Max: 227.0\n",
            "Run: 11500 Average: 188.14 Min: 149.0 Max: 228.0\n",
            "Run: 11600 Average: 188.12 Min: 162.0 Max: 228.0\n",
            "Run: 11700 Average: 196.75 Min: 157.0 Max: 500.0\n",
            "Run: 11800 Average: 198.76 Min: 161.0 Max: 414.0\n",
            "Run: 11900 Average: 202.44 Min: 153.0 Max: 477.0\n",
            "Run: 12000 Average: 194.01 Min: 161.0 Max: 417.0\n",
            "Run: 12100 Average: 196.61 Min: 154.0 Max: 437.0\n",
            "Run: 12200 Average: 192.48 Min: 153.0 Max: 367.0\n",
            "Run: 12300 Average: 199.47 Min: 148.0 Max: 439.0\n",
            "Run: 12400 Average: 273.22 Min: 141.0 Max: 387.0\n",
            "Run: 12500 Average: 265.33 Min: 197.0 Max: 395.0\n",
            "Run: 12600 Average: 227.43 Min: 150.0 Max: 461.0\n",
            "Run: 12700 Average: 262.47 Min: 134.0 Max: 500.0\n",
            "Run: 12800 Average: 259.7 Min: 147.0 Max: 500.0\n",
            "Run: 12900 Average: 260.67 Min: 151.0 Max: 478.0\n",
            "Run: 13000 Average: 268.77 Min: 133.0 Max: 500.0\n",
            "Run: 13100 Average: 234.09 Min: 139.0 Max: 500.0\n",
            "Run: 13200 Average: 243.86 Min: 138.0 Max: 483.0\n",
            "Run: 13300 Average: 263.55 Min: 134.0 Max: 500.0\n",
            "Run: 13400 Average: 256.08 Min: 142.0 Max: 497.0\n",
            "Run: 13500 Average: 259.19 Min: 128.0 Max: 500.0\n",
            "Run: 13600 Average: 245.71 Min: 119.0 Max: 476.0\n",
            "Run: 13700 Average: 249.21 Min: 145.0 Max: 469.0\n",
            "Run: 13800 Average: 265.33 Min: 144.0 Max: 500.0\n",
            "Run: 13900 Average: 266.97 Min: 139.0 Max: 500.0\n",
            "Run: 14000 Average: 249.98 Min: 131.0 Max: 500.0\n",
            "Run: 14100 Average: 253.03 Min: 154.0 Max: 500.0\n",
            "Run: 14200 Average: 282.32 Min: 157.0 Max: 500.0\n",
            "Run: 14300 Average: 248.54 Min: 138.0 Max: 500.0\n",
            "Run: 14400 Average: 261.77 Min: 169.0 Max: 500.0\n",
            "Run: 14500 Average: 250.04 Min: 123.0 Max: 500.0\n",
            "Run: 14600 Average: 250.58 Min: 152.0 Max: 500.0\n",
            "Run: 14700 Average: 253.03 Min: 158.0 Max: 500.0\n",
            "Run: 14800 Average: 249.6 Min: 134.0 Max: 500.0\n",
            "Run: 14900 Average: 240.84 Min: 138.0 Max: 500.0\n",
            "Run: 15000 Average: 258.32 Min: 155.0 Max: 500.0\n",
            "Run: 15100 Average: 254.4 Min: 127.0 Max: 500.0\n",
            "Run: 15200 Average: 266.72 Min: 133.0 Max: 500.0\n",
            "Run: 15300 Average: 255.55 Min: 119.0 Max: 477.0\n",
            "Run: 15400 Average: 264.53 Min: 106.0 Max: 500.0\n",
            "Run: 15500 Average: 259.17 Min: 101.0 Max: 500.0\n",
            "Run: 15600 Average: 262.01 Min: 130.0 Max: 500.0\n",
            "Run: 15700 Average: 257.08 Min: 141.0 Max: 462.0\n",
            "Run: 15800 Average: 261.12 Min: 147.0 Max: 500.0\n",
            "Run: 15900 Average: 251.49 Min: 114.0 Max: 500.0\n",
            "Run: 16000 Average: 259.91 Min: 132.0 Max: 500.0\n",
            "Run: 16100 Average: 266.6 Min: 127.0 Max: 500.0\n",
            "Run: 16200 Average: 258.78 Min: 162.0 Max: 500.0\n",
            "Run: 16300 Average: 255.7 Min: 110.0 Max: 490.0\n",
            "Run: 16400 Average: 250.96 Min: 109.0 Max: 500.0\n",
            "Run: 16500 Average: 253.75 Min: 125.0 Max: 500.0\n",
            "Run: 16600 Average: 260.39 Min: 137.0 Max: 500.0\n",
            "Run: 16700 Average: 254.15 Min: 120.0 Max: 500.0\n",
            "Run: 16800 Average: 236.85 Min: 142.0 Max: 477.0\n",
            "Run: 16900 Average: 259.03 Min: 172.0 Max: 500.0\n",
            "Run: 17000 Average: 268.35 Min: 117.0 Max: 477.0\n",
            "Run: 17100 Average: 271.78 Min: 156.0 Max: 479.0\n",
            "Run: 17200 Average: 271.33 Min: 138.0 Max: 500.0\n",
            "Run: 17300 Average: 257.74 Min: 130.0 Max: 500.0\n",
            "Run: 17400 Average: 255.69 Min: 132.0 Max: 500.0\n",
            "Run: 17500 Average: 259.28 Min: 117.0 Max: 500.0\n",
            "Run: 17600 Average: 252.86 Min: 159.0 Max: 442.0\n",
            "Run: 17700 Average: 255.8 Min: 148.0 Max: 500.0\n",
            "Run: 17800 Average: 255.44 Min: 152.0 Max: 483.0\n",
            "Run: 17900 Average: 234.7 Min: 119.0 Max: 442.0\n",
            "Run: 18000 Average: 248.5 Min: 130.0 Max: 500.0\n",
            "Run: 18100 Average: 256.07 Min: 151.0 Max: 500.0\n",
            "Run: 18200 Average: 249.58 Min: 132.0 Max: 456.0\n",
            "Run: 18300 Average: 241.11 Min: 137.0 Max: 455.0\n",
            "Run: 18400 Average: 241.58 Min: 111.0 Max: 449.0\n",
            "Run: 18500 Average: 241.86 Min: 144.0 Max: 449.0\n",
            "Run: 18600 Average: 264.97 Min: 115.0 Max: 500.0\n",
            "Run: 18700 Average: 269.05 Min: 166.0 Max: 476.0\n",
            "Run: 18800 Average: 256.83 Min: 141.0 Max: 500.0\n",
            "Run: 18900 Average: 246.98 Min: 142.0 Max: 500.0\n",
            "Run: 19000 Average: 261.2 Min: 137.0 Max: 500.0\n",
            "Run: 19100 Average: 273.8 Min: 138.0 Max: 500.0\n",
            "Run: 19200 Average: 259.13 Min: 131.0 Max: 500.0\n",
            "Run: 19300 Average: 277.25 Min: 112.0 Max: 479.0\n",
            "Run: 19400 Average: 272.89 Min: 162.0 Max: 481.0\n",
            "Run: 19500 Average: 256.4 Min: 162.0 Max: 463.0\n",
            "Run: 19600 Average: 263.3 Min: 171.0 Max: 465.0\n",
            "Run: 19700 Average: 272.86 Min: 173.0 Max: 455.0\n",
            "Run: 19800 Average: 253.34 Min: 119.0 Max: 486.0\n",
            "Run: 19900 Average: 252.15 Min: 148.0 Max: 464.0\n",
            "20000\n"
          ]
        },
        {
          "output_type": "execute_result",
          "data": {
            "text/plain": [
              "180.84835"
            ]
          },
          "metadata": {},
          "execution_count": 22
        }
      ]
    },
    {
      "cell_type": "markdown",
      "source": [
        "## Task 2: Demonstrate the effectiveness of the RL agent"
      ],
      "metadata": {
        "id": "-XtIQ0Rti1gm"
      }
    },
    {
      "cell_type": "markdown",
      "source": [
        "For this task, use the agent developed in Task 1 to play the game for 100 episodes (refer to tutorial for how to play a round), record the cumulative reward for each round, and plot the reward for each round. A sample plotting code is given below. Note that you must include code to play for 100 episodes and use the code to obtain round_results for plotting. DO NOT record the round results in advance and paste the results to the notebook."
      ],
      "metadata": {
        "id": "djBEShf0kGI4"
      }
    },
    {
      "cell_type": "markdown",
      "source": [
        "##Performance of Our Q Learning Agent "
      ],
      "metadata": {
        "id": "oWcFTQ7JmdjQ"
      }
    },
    {
      "cell_type": "markdown",
      "source": [
        "for task 2, as our agent is already developed in task 1 and only 100 episodes would be run, we chose epsilon value of 0.1 such that our agent will choose the best action based on the Q-table 90% of the time and explore random actions 10% of the time. \n",
        "\n",
        "By choosing the epsilon value of 0.1, the agent can continue to explore new actions and potentially find better strategies while also relying on its learned knowledge."
      ],
      "metadata": {
        "id": "eICTFifanD9s"
      }
    },
    {
      "cell_type": "code",
      "source": [
        "rewards = []\n",
        "epsilon = 0.1\n",
        "for i in range(100):\n",
        "    state = env.reset()\n",
        "    done = False\n",
        "    episode_reward = 0\n",
        "    \n",
        "    while not done:\n",
        "  \n",
        "        state = get_discrete_state(state, bins, obsSpaceSize)\n",
        "        #choose the best action from the q_table \n",
        "        action = np.argmax(q_table[state])\n",
        "\n",
        "        # Take the chosen action and observe the next state and reward\n",
        "        next_state, reward, done, _ = env.step(action)\n",
        "\n",
        "        # Update the cumulative reward and the state\n",
        "        episode_reward += reward\n",
        "        state = next_state\n",
        "\n",
        "    # Append the cumulative reward to the rewards list\n",
        "    rewards.append(episode_reward)\n",
        "avgRewardOver100episodes = sum(rewards)/len(rewards)\n",
        "avgRewardOver100episodes"
      ],
      "metadata": {
        "id": "3EUlV1A68J_A",
        "colab": {
          "base_uri": "https://localhost:8080/"
        },
        "outputId": "fa71647d-a9fa-4817-d296-366e48a5d177"
      },
      "execution_count": 34,
      "outputs": [
        {
          "output_type": "execute_result",
          "data": {
            "text/plain": [
              "257.75"
            ]
          },
          "metadata": {},
          "execution_count": 34
        }
      ]
    },
    {
      "cell_type": "code",
      "source": [
        "plt.plot(rewards)\n",
        "plt.title('Cumulative reward for each episode')\n",
        "plt.ylabel('Cumulative reward')\n",
        "plt.xlabel('episode')\n",
        "plt.show()"
      ],
      "metadata": {
        "colab": {
          "base_uri": "https://localhost:8080/",
          "height": 295
        },
        "id": "Q-rMYOz2mrE8",
        "outputId": "a9a0206f-0a22-4968-f384-98bcd5ceee59"
      },
      "execution_count": 35,
      "outputs": [
        {
          "output_type": "display_data",
          "data": {
            "text/plain": [
              "<Figure size 432x288 with 1 Axes>"
            ],
            "image/png": "[encoded data removed]"
          },
          "metadata": {
            "needs_background": "light"
          }
        }
      ]
    },
    {
      "cell_type": "code",
      "source": [
        "eprewards = np.array(rewards)\n",
        "print(\"Average cumulative reward:\", eprewards.mean())\n",
        "print(\"Is my agent good enough?\", eprewards.mean() > 195)"
      ],
      "metadata": {
        "colab": {
          "base_uri": "https://localhost:8080/"
        },
        "id": "DJn9PAg8mxAQ",
        "outputId": "d036365a-e3f6-4f3a-8308-722f189a8dd2"
      },
      "execution_count": 36,
      "outputs": [
        {
          "output_type": "stream",
          "name": "stdout",
          "text": [
            "Average cumulative reward: 257.75\n",
            "Is my agent good enough? True\n"
          ]
        }
      ]
    },
    {
      "cell_type": "markdown",
      "source": [
        "## Task 3: Render one episode played by the agent"
      ],
      "metadata": {
        "id": "Yg0DCT38lFA6"
      }
    },
    {
      "cell_type": "code",
      "source": [
        "!pip install pygame"
      ],
      "metadata": {
        "colab": {
          "base_uri": "https://localhost:8080/"
        },
        "id": "UC9vNuNT1KA0",
        "outputId": "44d71c18-b08b-4a21-c2d7-a9bd65f8e6aa"
      },
      "execution_count": 37,
      "outputs": [
        {
          "output_type": "stream",
          "name": "stdout",
          "text": [
            "Looking in indexes: https://pypi.org/simple, https://us-python.pkg.dev/colab-wheels/public/simple/\n",
            "Requirement already satisfied: pygame in /usr/local/lib/python3.9/dist-packages (2.1.0)\n"
          ]
        }
      ]
    },
    {
      "cell_type": "code",
      "source": [
        "import pygame\n",
        "from pygame import gfxdraw"
      ],
      "metadata": {
        "id": "Bp6mW3qV1Glq"
      },
      "execution_count": 38,
      "outputs": []
    },
    {
      "cell_type": "code",
      "source": [
        "env = RecordVideo(gym.make(\"CartPole-v1\"), \"./video\")\n",
        "cumulative_reward = 0\n",
        "observation = env.reset()\n",
        "while True:\n",
        "    env.render()\n",
        "    #our agent:\n",
        "    observation = get_discrete_state(observation, bins, obsSpaceSize)\n",
        "    #choose the best action from the q_table \n",
        "    action = np.argmax(q_table[observation])\n",
        "    observation, reward, done, info = env.step(action) \n",
        "    cumulative_reward += reward\n",
        "    if done: \n",
        "      break;    \n",
        "print(\"Cumulative Reward: \", cumulative_reward)\n",
        "env.close()\n",
        "show_video()"
      ],
      "metadata": {
        "colab": {
          "base_uri": "https://localhost:8080/",
          "height": 460
        },
        "id": "Zwr7fdJ-naQu",
        "outputId": "66a6565d-9196-4666-800f-810f8c4ff460"
      },
      "execution_count": 39,
      "outputs": [
        {
          "output_type": "stream",
          "name": "stdout",
          "text": [
            "Cumulative Reward:  295.0\n"
          ]
        },
        {
          "output_type": "display_data",
          "data": {
            "text/plain": [
              "<IPython.core.display.HTML object>"
            ],
            "text/html": [
              "<video alt=\"test\" autoplay \n",
              "                loop controls style=\"height: 400px;\">\n",
              "                <source src=\"data:video/mp4;base64,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\" type=\"video/mp4\" />\n",
              "             </video>"
            ]
          },
          "metadata": {}
        }
      ]
    },
    {
      "cell_type": "markdown",
      "source": [
        "Plug your agent to the code below to obtain rendered result."
      ],
      "metadata": {
        "id": "vx1awMr9lc_w"
      }
    }
  ]
}